{
  "metadata": {
    "language_info": {
      "codemirror_mode": {
        "name": "python",
        "version": 3
      },
      "file_extension": ".py",
      "mimetype": "text/x-python",
      "name": "python",
      "nbconvert_exporter": "python",
      "pygments_lexer": "ipython3",
      "version": "3.8"
    },
    "kernelspec": {
      "name": "python",
      "display_name": "Python (Pyodide)",
      "language": "python"
    }
  },
  "nbformat_minor": 4,
  "nbformat": 4,
  "cells": [
    {
      "cell_type": "code",
      "source": "import difflib\n\ndef autocorrect(word):\n    dictionary = [\"apple\", \"banana\", \"orange\", \"grape\", \"pineapple\", \"blueberry\"]\n    matches = difflib.get_close_matches(word, dictionary)\n    if matches:\n        # Return the best match\n        return matches[0]\n    else:\n        return \"No match found\"\n\n# Test the autocorrect function\nprint(autocorrect('aple'))  # Should return 'apple'",
      "metadata": {
        "trusted": true
      },
      "execution_count": 1,
      "outputs": [
        {
          "name": "stdout",
          "text": "apple\n",
          "output_type": "stream"
        }
      ]
    },
    {
      "cell_type": "code",
      "source": "",
      "metadata": {},
      "execution_count": null,
      "outputs": []
    }
  ]
}